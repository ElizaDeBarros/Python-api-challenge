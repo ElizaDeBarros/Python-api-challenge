{
 "cells": [
  {
   "cell_type": "markdown",
   "metadata": {},
   "source": [
    "## WeatherPy\n",
    "----\n",
    "\n",
    "#### Note\n",
    "* Instructions have been included for each segment. You do not have to follow them exactly, but they are included to help you think through the steps."
   ]
  },
  {
   "cell_type": "code",
   "execution_count": 177,
   "metadata": {},
   "outputs": [],
   "source": [
    "# Dependencies and Setup\n",
    "import matplotlib.pyplot as plt\n",
    "import pandas as pd\n",
    "import numpy as np\n",
    "import requests\n",
    "import time\n",
    "from datetime import date\n",
    "from scipy.stats import linregress\n",
    "import json\n",
    "from pprint import pprint\n",
    "\n",
    "# Import API key\n",
    "from api_keys import weather_api_key\n",
    "\n",
    "# Incorporated citipy to determine city based on latitude and longitude\n",
    "from citipy import citipy\n",
    "\n",
    "# Range of latitudes and longitudes\n",
    "lat_range = (-90.00, 90.00)\n",
    "lng_range = (-180.00, 180.00)"
   ]
  },
  {
   "cell_type": "markdown",
   "metadata": {},
   "source": [
    "# Generate Cities List"
   ]
  },
  {
   "cell_type": "code",
   "execution_count": 178,
   "metadata": {},
   "outputs": [],
   "source": [
    "# Creates a function that generates randon coordinates, finds the nearest city of each coordinate and get the information \n",
    "# needed to the plots further in the code from the weather url\n",
    "\n",
    "def find_information():\n",
    "    \n",
    "    def find_cities():\n",
    "\n",
    "        coords = []\n",
    "       \n",
    "        #Generate a random list of 500+ cities\n",
    "        lat = np.random.uniform(lat_range[0], lat_range[1], size=1500)\n",
    "        long = np.random.uniform(lng_range[0], lng_range[1], size=1500)\n",
    "        coords = list(zip(lat,long))\n",
    "\n",
    "\n",
    "        for coord in coords:\n",
    "            cityname = citipy.nearest_city(float(coord[0]), float(coord[1])).city_name\n",
    "           \n",
    "            #If the city is is not in the list of cities, then add the city to the list\n",
    "            if cityname not in cities:\n",
    "                cities.append(cityname)\n",
    "        \n",
    "        # Returns the result of the funcion find_cities, which is a list of cities that will be used for the API calls in the\n",
    "        # function find_information\n",
    "        return cities\n",
    "         \n",
    "\n",
    "    # to make sure that at least 650 cities will make to the api call\n",
    "    if len('total_cities') <650:\n",
    "        total_cities = find_cities()\n",
    " \n",
    "    # Define variables\n",
    "    response = []\n",
    "    hum_list = []\n",
    "    cl_list = []\n",
    "    speed_list = []\n",
    "    tmp_list = []\n",
    "    lt_list = []\n",
    "    lng_list = []\n",
    "    ct_list = []\n",
    "    country_list = []\n",
    "    date_list = []\n",
    "    \n",
    "    # Base url\n",
    "    base_url = 'http://api.openweathermap.org/data/2.5/weather?'    \n",
    "    \n",
    "    # query url for each city\n",
    "    for city in total_cities:\n",
    "        query_url = f\"{base_url}&q={city}&units=imperial&id=Default&appid={weather_api_key}\"\n",
    "        \n",
    "        #Get data and Jsonize it\n",
    "        response = requests.get(query_url).json()\n",
    "  \n",
    "        try:\n",
    "            # adds respective information for each list\n",
    "            tmp_list.append(response[\"main\"][\"temp_max\"])\n",
    "            hum_list.append(response[\"main\"][\"humidity\"])\n",
    "            cl_list.append(response[\"clouds\"][\"all\"])\n",
    "            speed_list.append(response[\"wind\"][\"speed\"])\n",
    "            lt_list.append(response[\"coord\"][\"lat\"])\n",
    "            lng_list.append(response[\"coord\"][\"lon\"])\n",
    "            ct_list.append(response[\"name\"])\n",
    "            country_list.append(response[\"sys\"][\"country\"])\n",
    "            date_list.append(response[\"dt\"])\n",
    "            \n",
    "        except:\n",
    "            pass\n",
    "    \n",
    "    return tmp_list, hum_list, cl_list, speed_list, lt_list, lng_list, ct_list, country_list, date_list"
   ]
  },
  {
   "cell_type": "code",
   "execution_count": 179,
   "metadata": {},
   "outputs": [
    {
     "name": "stdout",
     "output_type": "stream",
     "text": [
      "568\n"
     ]
    }
   ],
   "source": [
    "cities = []\n",
    "# Assigns the lists returned by the function to variables\n",
    "temp_list, humidity_list, cloud_list, ws_list, lat_list, long_list, city_list, country, dates = find_information()\n",
    "\n",
    "# Checks if the number of valid cities is at least 500. If it isn't it calls the function again to generate new outputs\n",
    "if len(temp_list) <500:\n",
    "    temp_list = []\n",
    "    humidity_list = []\n",
    "    cloud_list = []\n",
    "    ws_list = []\n",
    "    lat_list = []\n",
    "    long_list =[]\n",
    "    city_list = []\n",
    "    country = []\n",
    "    dates = []\n",
    "    find_information()\n",
    "print(len(temp_list))"
   ]
  },
  {
   "cell_type": "markdown",
   "metadata": {},
   "source": [
    "# Convert Raw Data to DataFrame\n",
    "Export the city data into a .csv.\n",
    "Display the DataFrame# "
   ]
  },
  {
   "cell_type": "code",
   "execution_count": 191,
   "metadata": {},
   "outputs": [
    {
     "ename": "TypeError",
     "evalue": "'type' object is not subscriptable",
     "output_type": "error",
     "traceback": [
      "\u001b[1;31m---------------------------------------------------------------------------\u001b[0m",
      "\u001b[1;31mTypeError\u001b[0m                                 Traceback (most recent call last)",
      "\u001b[1;32m<ipython-input-191-4299b0b7ade8>\u001b[0m in \u001b[0;36m<module>\u001b[1;34m\u001b[0m\n\u001b[0;32m     12\u001b[0m \u001b[1;31m#Name columns of the dataframe\u001b[0m\u001b[1;33m\u001b[0m\u001b[1;33m\u001b[0m\u001b[1;33m\u001b[0m\u001b[0m\n\u001b[0;32m     13\u001b[0m \u001b[1;31m#info_df = pd.concat([city_ds, lat_ds,lng_ds,max_temp_ds,humd_ds,cloud_ds, ws_ds, country_ds,date_ds], axis=1)\u001b[0m\u001b[1;33m\u001b[0m\u001b[1;33m\u001b[0m\u001b[1;33m\u001b[0m\u001b[0m\n\u001b[1;32m---> 14\u001b[1;33m \u001b[0minfo_df\u001b[0m \u001b[1;33m=\u001b[0m\u001b[0mpd\u001b[0m\u001b[1;33m.\u001b[0m\u001b[0mDataFrame\u001b[0m \u001b[1;33m[\u001b[0m\u001b[0mcity_list\u001b[0m\u001b[1;33m,\u001b[0m\u001b[0mlat_list\u001b[0m\u001b[1;33m,\u001b[0m\u001b[0mlong_list\u001b[0m\u001b[1;33m,\u001b[0m\u001b[0mtemp_list\u001b[0m\u001b[1;33m,\u001b[0m\u001b[0mhumidity_list\u001b[0m\u001b[1;33m,\u001b[0m\u001b[0mcloud_list\u001b[0m\u001b[1;33m,\u001b[0m\u001b[0mws_list\u001b[0m\u001b[1;33m,\u001b[0m\u001b[0mcountry\u001b[0m\u001b[1;33m,\u001b[0m\u001b[0mdates\u001b[0m\u001b[1;33m]\u001b[0m\u001b[1;33m\u001b[0m\u001b[1;33m\u001b[0m\u001b[0m\n\u001b[0m\u001b[0;32m     15\u001b[0m info_df = info_df.rename(columns = {info_df.columns[0]:'City',info_df.columns[1]:'Lat',\n\u001b[0;32m     16\u001b[0m                                                    \u001b[0minfo_df\u001b[0m\u001b[1;33m.\u001b[0m\u001b[0mcolumns\u001b[0m\u001b[1;33m[\u001b[0m\u001b[1;36m2\u001b[0m\u001b[1;33m]\u001b[0m\u001b[1;33m:\u001b[0m\u001b[1;34m'Lng'\u001b[0m\u001b[1;33m,\u001b[0m \u001b[0minfo_df\u001b[0m\u001b[1;33m.\u001b[0m\u001b[0mcolumns\u001b[0m\u001b[1;33m[\u001b[0m\u001b[1;36m3\u001b[0m\u001b[1;33m]\u001b[0m \u001b[1;33m:\u001b[0m \u001b[1;34m'Max Temp'\u001b[0m\u001b[1;33m,\u001b[0m\u001b[1;33m\u001b[0m\u001b[1;33m\u001b[0m\u001b[0m\n",
      "\u001b[1;31mTypeError\u001b[0m: 'type' object is not subscriptable"
     ]
    }
   ],
   "source": [
    "#city_ds =( pd.Series(city_list)).astype(str)\n",
    "#lat_ds = (pd.Series(lat_list)).astype(object)\n",
    "#lng_ds = (pd.Series(long_list)).astype(object)\n",
    "#max_temp_ds = (pd.Series(temp_list)).astype(object)\n",
    "#humd_ds = (pd.Series(humidity_list)).astype(object)\n",
    "#cloud_ds = (pd.Series(cloud_list)).astype(object)\n",
    "#ws_ds = (pd.Series(ws_list)).astype(object)\n",
    "#country_ds = (pd.Series(country)).astype(object)\n",
    "#date_ds = (pd.Series(dates)).astype(object)\n",
    "#info_df = []\n",
    "\n",
    "#Name columns of the dataframe\n",
    "#info_df = pd.concat([city_ds, lat_ds,lng_ds,max_temp_ds,humd_ds,cloud_ds, ws_ds, country_ds,date_ds], axis=1)\n",
    "info_df =pd.DataFrame [city_list,lat_list,long_list,temp_list,humidity_list,cloud_list,ws_list,country,dates]\n",
    "info_df = info_df.rename(columns = {info_df.columns[0]:'City',info_df.columns[1]:'Lat',\n",
    "                                                   info_df.columns[2]:'Lng', info_df.columns[3] : 'Max Temp',\n",
    "                                                   info_df.columns[4] : 'Humidity',\n",
    "                                                   info_df.columns[5] : 'Cloudiness',\n",
    "                                                   info_df.columns[6] : 'Wind Speed',\n",
    "                                                   info_df.columns[7] : 'Country',\n",
    "                                                   info_df.columns[8] : 'Date'})\n",
    "\n",
    "info_df.head(10)"
   ]
  },
  {
   "cell_type": "code",
   "execution_count": 169,
   "metadata": {},
   "outputs": [
    {
     "data": {
      "text/html": [
       "<div>\n",
       "<style scoped>\n",
       "    .dataframe tbody tr th:only-of-type {\n",
       "        vertical-align: middle;\n",
       "    }\n",
       "\n",
       "    .dataframe tbody tr th {\n",
       "        vertical-align: top;\n",
       "    }\n",
       "\n",
       "    .dataframe thead th {\n",
       "        text-align: right;\n",
       "    }\n",
       "</style>\n",
       "<table border=\"1\" class=\"dataframe\">\n",
       "  <thead>\n",
       "    <tr style=\"text-align: right;\">\n",
       "      <th></th>\n",
       "      <th>City</th>\n",
       "      <th>Lat</th>\n",
       "      <th>Lng</th>\n",
       "      <th>Max Temp</th>\n",
       "      <th>Humidity</th>\n",
       "      <th>Cloudiness</th>\n",
       "      <th>Wind Speed</th>\n",
       "      <th>Country</th>\n",
       "      <th>Date</th>\n",
       "    </tr>\n",
       "  </thead>\n",
       "  <tbody>\n",
       "    <tr>\n",
       "      <th>count</th>\n",
       "      <td>0</td>\n",
       "      <td>0</td>\n",
       "      <td>0</td>\n",
       "      <td>0</td>\n",
       "      <td>0</td>\n",
       "      <td>0</td>\n",
       "      <td>0</td>\n",
       "      <td>0</td>\n",
       "      <td>0</td>\n",
       "    </tr>\n",
       "    <tr>\n",
       "      <th>unique</th>\n",
       "      <td>0</td>\n",
       "      <td>0</td>\n",
       "      <td>0</td>\n",
       "      <td>0</td>\n",
       "      <td>0</td>\n",
       "      <td>0</td>\n",
       "      <td>0</td>\n",
       "      <td>0</td>\n",
       "      <td>0</td>\n",
       "    </tr>\n",
       "    <tr>\n",
       "      <th>top</th>\n",
       "      <td>NaN</td>\n",
       "      <td>NaN</td>\n",
       "      <td>NaN</td>\n",
       "      <td>NaN</td>\n",
       "      <td>NaN</td>\n",
       "      <td>NaN</td>\n",
       "      <td>NaN</td>\n",
       "      <td>NaN</td>\n",
       "      <td>NaN</td>\n",
       "    </tr>\n",
       "    <tr>\n",
       "      <th>freq</th>\n",
       "      <td>NaN</td>\n",
       "      <td>NaN</td>\n",
       "      <td>NaN</td>\n",
       "      <td>NaN</td>\n",
       "      <td>NaN</td>\n",
       "      <td>NaN</td>\n",
       "      <td>NaN</td>\n",
       "      <td>NaN</td>\n",
       "      <td>NaN</td>\n",
       "    </tr>\n",
       "  </tbody>\n",
       "</table>\n",
       "</div>"
      ],
      "text/plain": [
       "       City  Lat  Lng Max Temp Humidity Cloudiness Wind Speed Country Date\n",
       "count     0    0    0        0        0          0          0       0    0\n",
       "unique    0    0    0        0        0          0          0       0    0\n",
       "top     NaN  NaN  NaN      NaN      NaN        NaN        NaN     NaN  NaN\n",
       "freq    NaN  NaN  NaN      NaN      NaN        NaN        NaN     NaN  NaN"
      ]
     },
     "execution_count": 169,
     "metadata": {},
     "output_type": "execute_result"
    }
   ],
   "source": [
    "info_df.describe()"
   ]
  },
  {
   "cell_type": "code",
   "execution_count": 154,
   "metadata": {},
   "outputs": [],
   "source": [
    "#Re-order columns and export the city data into a .csv. \n",
    "\n",
    "\n",
    "output_data_file = info_df[['City','Cloudiness','Date','Humidity','Lat','Lng','Max Temp','Wind Speed']]\n",
    "output_data_file.to_csv('output_data/cities.csv', index_label='City ID', index=True, header=True)\n"
   ]
  },
  {
   "cell_type": "markdown",
   "metadata": {},
   "source": [
    "# Inspect the data and remove the cities where the humidity > 100%"
   ]
  },
  {
   "cell_type": "code",
   "execution_count": 155,
   "metadata": {},
   "outputs": [],
   "source": [
    "#  Get the indices of cities that have humidity over 100%.\n",
    "\n",
    "index_value = output_data_file[output_data_file['Humidity']>100].index\n",
    "\n",
    "if len(index_value) > 0:\n",
    "    clean_city_data = output_data_file.drop(index=output_data_file.index[index_value])\n",
    "    clean_city_data.head()\n",
    "    "
   ]
  },
  {
   "cell_type": "markdown",
   "metadata": {},
   "source": [
    "## Plotting the Data\n",
    "* Use proper labeling of the plots using plot titles (including date of analysis) and axes labels.\n",
    "* Save the plotted figures as .pngs."
   ]
  },
  {
   "cell_type": "markdown",
   "metadata": {},
   "source": [
    "# Latitude vs. Temperature Plot "
   ]
  },
  {
   "cell_type": "code",
   "execution_count": 156,
   "metadata": {},
   "outputs": [
    {
     "ename": "AttributeError",
     "evalue": "'str' object has no attribute 'strftime'",
     "output_type": "error",
     "traceback": [
      "\u001b[1;31m---------------------------------------------------------------------------\u001b[0m",
      "\u001b[1;31mAttributeError\u001b[0m                            Traceback (most recent call last)",
      "\u001b[1;32m<ipython-input-156-0c931274d4d0>\u001b[0m in \u001b[0;36m<module>\u001b[1;34m\u001b[0m\n\u001b[1;32m----> 1\u001b[1;33m \u001b[0mtoday\u001b[0m \u001b[1;33m=\u001b[0m \u001b[0mtoday\u001b[0m\u001b[1;33m.\u001b[0m\u001b[0mstrftime\u001b[0m\u001b[1;33m(\u001b[0m\u001b[1;34m\"%m/%d/%y\"\u001b[0m\u001b[1;33m)\u001b[0m\u001b[1;33m\u001b[0m\u001b[1;33m\u001b[0m\u001b[0m\n\u001b[0m",
      "\u001b[1;31mAttributeError\u001b[0m: 'str' object has no attribute 'strftime'"
     ]
    }
   ],
   "source": [
    "today = today.strftime(\"%m/%d/%y\")"
   ]
  },
  {
   "cell_type": "code",
   "execution_count": null,
   "metadata": {},
   "outputs": [],
   "source": [
    "plt.scatter(lat_list, temp_list, color='r')\n",
    "plt.xlabel('Latitude')\n",
    "plt.ylabel('Temperature(F)')\n",
    "plt.title('City Latitude vs. max. Temperature ' + str(today))\n",
    "plt.savefig('output_data/temp_lat.png')\n",
    "plt.show()"
   ]
  },
  {
   "cell_type": "markdown",
   "metadata": {},
   "source": [
    "# Latitude vs. Humidity Plot"
   ]
  },
  {
   "cell_type": "code",
   "execution_count": null,
   "metadata": {},
   "outputs": [],
   "source": [
    "plt.scatter(lat_list, humidity_list, color='green')\n",
    "plt.xlabel('Latitude')\n",
    "plt.ylabel('Humidity %')\n",
    "plt.title('City Latitude vs. Humidity ' + str(today))\n",
    "plt.savefig('output_data/humidity_lat.png')\n",
    "plt.show()"
   ]
  },
  {
   "cell_type": "markdown",
   "metadata": {},
   "source": [
    "# Latitude vs. Cloudiness Plot"
   ]
  },
  {
   "cell_type": "code",
   "execution_count": null,
   "metadata": {},
   "outputs": [],
   "source": [
    "plt.scatter(lat_list, cloud_list, color='blue')\n",
    "plt.xlabel('Latitude')\n",
    "plt.ylabel('Cloudiness %')\n",
    "plt.title('City Latitude vs. Cloudiness ' + str(today))\n",
    "plt.savefig('output_data/cloudiness_lat.png')\n",
    "plt.show()"
   ]
  },
  {
   "cell_type": "markdown",
   "metadata": {},
   "source": [
    "# Latitude vs. Wind Speed Plot"
   ]
  },
  {
   "cell_type": "code",
   "execution_count": null,
   "metadata": {
    "scrolled": true
   },
   "outputs": [],
   "source": [
    "plt.scatter(lat_list, ws_list, color='orange')\n",
    "plt.xlabel('Latitude')\n",
    "plt.ylabel('Wind Speed (mph)')\n",
    "plt.title('City Latitude vs. Wind Speed ' + str(today))\n",
    "plt.savefig('output_data/ws_lat.png')\n",
    "plt.show()"
   ]
  },
  {
   "cell_type": "markdown",
   "metadata": {},
   "source": [
    "# Linear Regression"
   ]
  },
  {
   "cell_type": "code",
   "execution_count": null,
   "metadata": {},
   "outputs": [],
   "source": [
    "# Split data by hemisphere\n",
    "\n",
    "hem_north = []\n",
    "temp_north = []\n",
    "humidity_north = []\n",
    "cloudiness_north = []\n",
    "ws_north = []\n",
    "hem_south = []\n",
    "temp_south = []\n",
    "humidity_south = []\n",
    "cloudiness_south = []\n",
    "ws_south = []\n",
    "\n",
    "for i in range(len(lat_list)):\n",
    "    if (lat_list[i]) >= 0.0:\n",
    "        hem_north.append(lat_list[i])\n",
    "        temp_north.append(temp_list[i])\n",
    "        humidity_north.append(humidity_list[i])\n",
    "        cloudiness_north.append(cloud_list[i])\n",
    "        ws_north.append(ws_list[i])\n",
    "    else:\n",
    "        hem_south.append(lat_list[i])\n",
    "        temp_south.append(temp_list[i])\n",
    "        humidity_south.append(humidity_list[i])\n",
    "        cloudiness_south.append(cloud_list[i])\n",
    "        ws_south.append(ws_list[i])        \n"
   ]
  },
  {
   "cell_type": "markdown",
   "metadata": {},
   "source": [
    "###  Northern Hemisphere - Max Temp vs. Latitude Linear Regression"
   ]
  },
  {
   "cell_type": "code",
   "execution_count": null,
   "metadata": {},
   "outputs": [],
   "source": [
    "# Temp plots\n",
    "regress_values=[]\n",
    "(slope, intercept, rvalue, pvalue, stderr) = linregress(hem_north,temp_north)\n",
    "print(\"R-square = \" + str(round(rvalue **2,2)))\n",
    "regress_values = np.asarray(hem_north) * slope + intercept\n",
    "line_eq = \"y = \" + str(round(slope,3)) + \"x + \" + str(round(intercept,3))\n",
    "plt.scatter(hem_north,temp_north,  color = 'lightblue')\n",
    "plt.plot(hem_north,regress_values,\"black\")\n",
    "plt.annotate(line_eq,(10,-40),fontsize=12,color=\"black\")\n",
    "plt.xlabel('Latitude')\n",
    "plt.ylabel('Max Temp(F)')\n",
    "plt.xlim(0,90)\n",
    "plt.ylim(-60,120)\n",
    "plt.savefig('output_data/temp_north.png')\n",
    "plt.show()\n",
    "if (rvalue**2)> 0.6:\n",
    "    print('The plot above shows a linear correlation between temperature and latitude in the north hemisphere.')\n",
    "else:\n",
    "    print('The plot above does not show any linear correlation between temperature and latitude in the north hemisphere.')\n",
    "print('')\n"
   ]
  },
  {
   "cell_type": "markdown",
   "metadata": {},
   "source": [
    "###  Southern Hemisphere - Max Temp vs. Latitude Linear Regression"
   ]
  },
  {
   "cell_type": "code",
   "execution_count": null,
   "metadata": {},
   "outputs": [],
   "source": [
    "# Temp plots\n",
    "regress_values=[]\n",
    "(slope, intercept, rvalue, pvalue, stderr) = linregress(hem_south,temp_south)\n",
    "print(\"R-square = \" + str(round(rvalue **2,2)))\n",
    "regress_values = np.asarray(hem_south) * slope + intercept\n",
    "line_eq = \"y = \" + str(round(slope,3)) + \"x + \" + str(round(intercept,3))\n",
    "plt.scatter(hem_south,temp_south,  color = 'darkblue')\n",
    "plt.plot(hem_south,regress_values,\"black\")\n",
    "plt.annotate(line_eq,(-80,-40),fontsize=12,color=\"black\")\n",
    "plt.xlabel('Latitude')\n",
    "plt.ylabel('Max Temp(F)')\n",
    "plt.xlim(-90,0)\n",
    "plt.ylim(-60,120)\n",
    "plt.savefig('output_data/temp_south.png')\n",
    "plt.show()\n",
    "if (rvalue**2)> 0.6:\n",
    "    print('The plot above shows a linear correlation between temperature and latitude in the south hemisphere.')\n",
    "else:\n",
    "    print('The plot above does not show any linear correlation between temperature and latitude in the south hemisphere.')\n",
    "print('')"
   ]
  },
  {
   "cell_type": "markdown",
   "metadata": {},
   "source": [
    "###  Northern Hemisphere - Humidity (%) vs. Latitude Linear Regression"
   ]
  },
  {
   "cell_type": "code",
   "execution_count": null,
   "metadata": {},
   "outputs": [],
   "source": [
    "# Humidity plots\n",
    "regress_values=[]\n",
    "(slope, intercept, rvalue, pvalue, stderr) = linregress(hem_north,humidity_north)\n",
    "print(\"R-square = \" + str(round(rvalue **2,2)))\n",
    "regress_values = np.asarray(hem_north) * slope + intercept\n",
    "line_eq = \"y = \" + str(round(slope,3)) + \"x + \" + str(round(intercept,3))\n",
    "plt.scatter(hem_north,humidity_north,  color = 'lightgreen')\n",
    "plt.plot(hem_north,regress_values,\"black\")\n",
    "plt.annotate(line_eq, (50,25),fontsize=12,color=\"black\")\n",
    "plt.xlabel('Latitude')\n",
    "plt.ylabel('Humidity %')\n",
    "plt.xlim(0,90)\n",
    "plt.savefig('output_data/humidity_north.png')\n",
    "plt.show()\n",
    "if (rvalue**2)> 0.6:\n",
    "    print('The plot above shows a linear correlation between humidity and latitude in the north hemisphere.')\n",
    "else:\n",
    "    print('The plot above does not show any linear correlation between humidity and latitude in the north hemisphere.')\n",
    "print('')"
   ]
  },
  {
   "cell_type": "markdown",
   "metadata": {},
   "source": [
    "###  Southern Hemisphere - Humidity (%) vs. Latitude Linear Regression"
   ]
  },
  {
   "cell_type": "code",
   "execution_count": null,
   "metadata": {},
   "outputs": [],
   "source": [
    "# Humidity plots\n",
    "regress_values=[]\n",
    "(slope, intercept, rvalue, pvalue, stderr) = linregress(hem_south,humidity_south)\n",
    "print(\"R-square = \" + str(round(rvalue **2,2)))\n",
    "regress_values = np.asarray(hem_south) * slope + intercept\n",
    "line_eq = \"y = \" + str(round(slope,3)) + \"x + \" + str(round(intercept,3))\n",
    "plt.scatter(hem_south,humidity_south,  color = 'green')\n",
    "plt.plot(hem_south,regress_values,\"black\")\n",
    "plt.annotate(line_eq, (-80,50),fontsize=12,color=\"black\")\n",
    "plt.xlabel('Latitude')\n",
    "plt.ylabel('Humidity %')\n",
    "plt.xlim(-90,0)\n",
    "plt.savefig('output_data/humidity_south.png')\n",
    "plt.show()\n",
    "if (rvalue**2)> 0.6:\n",
    "    print('The plot above shows a linear correlation between humidity and latitude in the south hemisphere.')\n",
    "else:\n",
    "    print('The plot above does not show any linear correlation between humidity and latitude in the south hemisphere.')\n",
    "print('')"
   ]
  },
  {
   "cell_type": "markdown",
   "metadata": {},
   "source": [
    "###  Northern Hemisphere - Cloudiness (%) vs. Latitude Linear Regression"
   ]
  },
  {
   "cell_type": "code",
   "execution_count": null,
   "metadata": {},
   "outputs": [],
   "source": [
    "# Cloudiness plots\n",
    "regress_values=[]\n",
    "(slope, intercept, rvalue, pvalue, stderr) = linregress(hem_north,cloudiness_north)\n",
    "print(\"R-square = \" + str(round(rvalue **2,2)))\n",
    "regress_values = np.asarray(hem_north) * slope + intercept\n",
    "line_eq = \"y = \" + str(round(slope,3)) + \"x + \" + str(round(intercept,3))\n",
    "plt.scatter(hem_north,cloudiness_north,  color = 'red')\n",
    "plt.plot(hem_north,regress_values,\"black\")\n",
    "plt.annotate(line_eq, (50,25),fontsize=12,color=\"black\")\n",
    "plt.xlabel('Latitude')\n",
    "plt.ylabel('Cloudiness %')\n",
    "plt.xlim(0,90)\n",
    "plt.savefig('output_data/cloudiness_north.png')\n",
    "plt.show()\n",
    "if (rvalue**2)> 0.6:\n",
    "    print('The plot above shows a linear correlation between percentage of clouds and latitude in the north hemisphere.')\n",
    "else:\n",
    "    print('The plot above does not show any linear correlation between percentage of clouds and latitude in the north hemisphere.')\n",
    "print('')"
   ]
  },
  {
   "cell_type": "markdown",
   "metadata": {},
   "source": [
    "### Southern Hemisphere - Cloudiness (%) vs. Latitude Linear Regression"
   ]
  },
  {
   "cell_type": "code",
   "execution_count": null,
   "metadata": {},
   "outputs": [],
   "source": [
    "# Cloudiness plots\n",
    "regress_values=[]\n",
    "(slope, intercept, rvalue, pvalue, stderr) = linregress(hem_south,cloudiness_south)\n",
    "print(\"R-square = \" + str(round(rvalue **2,2)))\n",
    "regress_values = np.asarray(hem_south) * slope + intercept\n",
    "line_eq = \"y = \" + str(round(slope,3)) + \"x + \" + str(round(intercept,3))\n",
    "plt.scatter(hem_south,cloudiness_south,  color = 'magenta')\n",
    "plt.plot(hem_south,regress_values,\"black\")\n",
    "plt.annotate(line_eq, (-80,20),fontsize=12,color=\"black\")\n",
    "plt.xlabel('Latitude')\n",
    "plt.ylabel('Cloudiness %')\n",
    "plt.xlim(-90,0)\n",
    "plt.savefig('output_data/cloudiness_south.png')\n",
    "plt.show()\n",
    "if (rvalue**2)> 0.6:\n",
    "    print('The plot above shows a linear correlation between percentage of clouds and latitude in the south hemisphere.')\n",
    "else:\n",
    "    print('The plot above does not show any linear correlation between percentage of clouds and latitude in the south hemisphere.')\n",
    "print('')"
   ]
  },
  {
   "cell_type": "markdown",
   "metadata": {},
   "source": [
    "###  Northern Hemisphere - Wind Speed (mph) vs. Latitude Linear Regression"
   ]
  },
  {
   "cell_type": "code",
   "execution_count": null,
   "metadata": {},
   "outputs": [],
   "source": [
    "# Wind speed plots\n",
    "regress_values=[]\n",
    "(slope, intercept, rvalue, pvalue, stderr) = linregress(hem_north,ws_north)\n",
    "print(\"R-square = \" + str(round(rvalue **2,2)))\n",
    "regress_values = np.asarray(hem_north) * slope + intercept\n",
    "line_eq = \"y = \" + str(round(slope,3)) + \"x + \" + str(round(intercept,3))\n",
    "plt.scatter(hem_north,ws_north,  color = 'grey')\n",
    "plt.plot(hem_north,regress_values,\"black\")\n",
    "plt.annotate(line_eq, xy=(10, 12),fontsize=12,color=\"black\")\n",
    "plt.xlabel('Latitude')\n",
    "plt.ylabel('Wind speed [mph]')\n",
    "plt.xlim(0,90)\n",
    "plt.savefig('output_data/ws_north.png')\n",
    "plt.show()\n",
    "if (rvalue**2)> 0.6:\n",
    "    print('The plot above shows a linear correlation between wind speed and latitude in the north hemisphere.')\n",
    "else:\n",
    "    print('The plot above does not show any linear correlation between wind speed and latitude in the north hemisphere.')\n",
    "print('')"
   ]
  },
  {
   "cell_type": "markdown",
   "metadata": {},
   "source": [
    "###  Southern Hemisphere - Wind Speed (mph) vs. Latitude Linear Regression"
   ]
  },
  {
   "cell_type": "code",
   "execution_count": null,
   "metadata": {},
   "outputs": [],
   "source": [
    "# Wind speed plots\n",
    "regress_values=[]\n",
    "(slope, intercept, rvalue, pvalue, stderr) = linregress(hem_south,ws_south)\n",
    "print(\"R-square = \" + str(round(rvalue **2,2)))\n",
    "regress_values = np.asarray(hem_south) * slope + intercept\n",
    "line_eq = \"y = \" + str(round(slope,3)) + \"x + \" + str(round(intercept,3))\n",
    "plt.scatter(hem_south,ws_south,  color = 'orange')\n",
    "plt.plot(hem_south,regress_values,\"black\")\n",
    "plt.annotate(line_eq, (-80,12),fontsize=12,color=\"black\")\n",
    "plt.xlabel('Latitude')\n",
    "plt.ylabel('Wind speed [mph]')\n",
    "plt.xlim(-90,0)\n",
    "plt.savefig('output_data/ws_south.png')\n",
    "plt.show()\n",
    "if (rvalue**2)> 0.6:\n",
    "    print('The plot above shows a linear correlation between wind speed and latitude in the south hemisphere.')\n",
    "else:\n",
    "    print('The plot above does not show any linear correlation between wind speed and latitude in the south hemisphere.')\n",
    "print('')"
   ]
  },
  {
   "cell_type": "code",
   "execution_count": null,
   "metadata": {},
   "outputs": [],
   "source": []
  }
 ],
 "metadata": {
  "kernelspec": {
   "display_name": "Python [conda env:PythonData] *",
   "language": "python",
   "name": "conda-env-PythonData-py"
  },
  "language_info": {
   "codemirror_mode": {
    "name": "ipython",
    "version": 3
   },
   "file_extension": ".py",
   "mimetype": "text/x-python",
   "name": "python",
   "nbconvert_exporter": "python",
   "pygments_lexer": "ipython3",
   "version": "3.6.10"
  }
 },
 "nbformat": 4,
 "nbformat_minor": 4
}
